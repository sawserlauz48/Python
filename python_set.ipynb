{
  "nbformat": 4,
  "nbformat_minor": 0,
  "metadata": {
    "colab": {
      "provenance": []
    },
    "kernelspec": {
      "name": "python3",
      "display_name": "Python 3"
    },
    "language_info": {
      "name": "python"
    }
  },
  "cells": [
    {
      "cell_type": "markdown",
      "source": [
        "In Python, a set is a built-in data type that represents an unordered collection of unique elements. Sets are used to store a collection of items, similar to lists or tuples, but unlike lists, sets do not allow duplicate values. Sets are defined by enclosing a comma-separated sequence of values within curly braces { } or by using the set( ) constructor."
      ],
      "metadata": {
        "id": "gQpyoVlXC0KC"
      }
    },
    {
      "cell_type": "code",
      "source": [
        "# Adding Elements\n",
        "my_set = {1, 2, 3, 4, 5}\n",
        "my_set.add(6)\n",
        "print(my_set)"
      ],
      "metadata": {
        "colab": {
          "base_uri": "https://localhost:8080/"
        },
        "id": "9QCRWHnnC4yc",
        "outputId": "3a9453fb-b064-4594-d1fe-33f2b9e89865"
      },
      "execution_count": 1,
      "outputs": [
        {
          "output_type": "stream",
          "name": "stdout",
          "text": [
            "{1, 2, 3, 4, 5, 6}\n"
          ]
        }
      ]
    },
    {
      "cell_type": "code",
      "source": [
        "# Removing Elements\n",
        "my_set = {1, 2, 3, 4, 5}\n",
        "my_set.remove(3)\n",
        "my_set.discard(5)\n",
        "print(my_set)\n",
        "\n"
      ],
      "metadata": {
        "colab": {
          "base_uri": "https://localhost:8080/"
        },
        "id": "SLPNdfDuC-TU",
        "outputId": "f4ee6594-40b0-4069-8b5c-e2cc70cb1ce4"
      },
      "execution_count": 2,
      "outputs": [
        {
          "output_type": "stream",
          "name": "stdout",
          "text": [
            "{1, 2, 4}\n"
          ]
        }
      ]
    },
    {
      "cell_type": "code",
      "source": [
        "# Union and Intersection\n",
        "set1 = {1, 2, 3}\n",
        "set2 = {3, 4, 5}\n",
        "print(set1.union(set2))\n",
        "print(set1.intersection(set2))"
      ],
      "metadata": {
        "colab": {
          "base_uri": "https://localhost:8080/"
        },
        "id": "q7CLrz48C-Yr",
        "outputId": "d0d347fe-606d-4972-ca8f-7b9b840cd198"
      },
      "execution_count": 4,
      "outputs": [
        {
          "output_type": "stream",
          "name": "stdout",
          "text": [
            "{1, 2, 3, 4, 5}\n",
            "{3}\n"
          ]
        }
      ]
    },
    {
      "cell_type": "code",
      "source": [
        "# Difference and Symmetric Difference\n",
        "set1 = {1, 2, 3}\n",
        "set2 = {3, 4, 5}\n",
        "print(set1.difference(set2))\n",
        "print(set1.symmetric_difference(set2))\n"
      ],
      "metadata": {
        "colab": {
          "base_uri": "https://localhost:8080/"
        },
        "id": "7R2719LQC-mT",
        "outputId": "8593f84b-1825-4660-dc42-5e800a55a7f1"
      },
      "execution_count": 5,
      "outputs": [
        {
          "output_type": "stream",
          "name": "stdout",
          "text": [
            "{1, 2}\n",
            "{1, 2, 4, 5}\n"
          ]
        }
      ]
    },
    {
      "cell_type": "code",
      "source": [
        "# Membership\n",
        "my_set = {1, 2, 3, 4, 5}\n",
        "if 5 in my_set:\n",
        "    print(True)\n",
        "else:\n",
        "  print(False)"
      ],
      "metadata": {
        "colab": {
          "base_uri": "https://localhost:8080/"
        },
        "id": "OEDRrjzTC-sH",
        "outputId": "79867bc1-c046-41d2-ad97-04ae4c28676b"
      },
      "execution_count": 6,
      "outputs": [
        {
          "output_type": "stream",
          "name": "stdout",
          "text": [
            "True\n"
          ]
        }
      ]
    },
    {
      "cell_type": "code",
      "source": [
        "# Iterating Over Elements\n",
        "my_set = {1, 2, 3, 4, 5}\n",
        "for number in my_set:\n",
        "    print(number)"
      ],
      "metadata": {
        "colab": {
          "base_uri": "https://localhost:8080/"
        },
        "id": "gL4-eoN4C-yJ",
        "outputId": "290d39da-fb26-4143-8247-87aa2b0b7d94"
      },
      "execution_count": 7,
      "outputs": [
        {
          "output_type": "stream",
          "name": "stdout",
          "text": [
            "1\n",
            "2\n",
            "3\n",
            "4\n",
            "5\n"
          ]
        }
      ]
    },
    {
      "cell_type": "code",
      "source": [
        "# Finding the Length\n",
        "my_set = {1, 2, 3, 4, 5}\n",
        "print(len(my_set))"
      ],
      "metadata": {
        "colab": {
          "base_uri": "https://localhost:8080/"
        },
        "id": "kCCMjiwhC-4T",
        "outputId": "df81ecb1-141c-4b6e-bdbb-1b117ed14828"
      },
      "execution_count": 8,
      "outputs": [
        {
          "output_type": "stream",
          "name": "stdout",
          "text": [
            "5\n"
          ]
        }
      ]
    },
    {
      "cell_type": "code",
      "source": [
        "# Removing Duplicates from a List\n",
        "num_list = [1, 2, 2, 3, 4, 4, 5]\n",
        "print(list(set(num_list)))"
      ],
      "metadata": {
        "colab": {
          "base_uri": "https://localhost:8080/"
        },
        "id": "FtyJ1apIC--p",
        "outputId": "6ec897b1-37b1-4f7a-804d-838d506d1e34"
      },
      "execution_count": 10,
      "outputs": [
        {
          "output_type": "stream",
          "name": "stdout",
          "text": [
            "[1, 2, 3, 4, 5]\n"
          ]
        }
      ]
    }
  ]
}