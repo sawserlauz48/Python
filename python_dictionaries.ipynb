{
  "nbformat": 4,
  "nbformat_minor": 0,
  "metadata": {
    "colab": {
      "provenance": []
    },
    "kernelspec": {
      "name": "python3",
      "display_name": "Python 3"
    },
    "language_info": {
      "name": "python"
    }
  },
  "cells": [
    {
      "cell_type": "markdown",
      "source": [
        "In Python, a dictionary (often referred to as a \"dict\") is a built-in data type that represents an unordered collection of key-value pairs. Each key in a dictionary is unique and is used to access its corresponding value. Dictionaries are sometimes also known as associative arrays or hash maps in other programming languages.\n",
        "\n",
        "Dictionaries are defined by enclosing a comma-separated sequence of key-value pairs within curly braces {}. Each key-value pair is separated by a colon : with the key on the left and the associated value on the right"
      ],
      "metadata": {
        "id": "K_i-6fJLFY0e"
      }
    },
    {
      "cell_type": "code",
      "source": [
        "user = { \"name\":{   \"firstName\":\"Sawser\", \"lastName\":\"Lauz\" },\"email\":\"gmail@gmail.com\"   }"
      ],
      "metadata": {
        "id": "VHD5sGqIF3Zb"
      },
      "execution_count": 3,
      "outputs": []
    },
    {
      "cell_type": "code",
      "source": [
        "# Accessing Values\n",
        "print(user[\"name\"])\n",
        "print(user.get(\"email\"))\n"
      ],
      "metadata": {
        "colab": {
          "base_uri": "https://localhost:8080/"
        },
        "id": "_bNHh2leGr3K",
        "outputId": "b58c26b6-a91c-418f-c3ff-192fcc675fde"
      },
      "execution_count": 12,
      "outputs": [
        {
          "output_type": "stream",
          "name": "stdout",
          "text": [
            "{'firstName': 'Sawser', 'lastName': 'Lauz'}\n",
            "gmail@gmail.com\n"
          ]
        }
      ]
    },
    {
      "cell_type": "code",
      "source": [
        "# Modifying Values\n",
        "user[\"name\"][\"firstName\"]=\"Saw\"\n",
        "print(user[\"name\"][\"firstName\"])"
      ],
      "metadata": {
        "colab": {
          "base_uri": "https://localhost:8080/"
        },
        "id": "5viM326cG_za",
        "outputId": "9cc4c85f-e391-4e71-8d7f-597e5bedb5a2"
      },
      "execution_count": 13,
      "outputs": [
        {
          "output_type": "stream",
          "name": "stdout",
          "text": [
            "Saw\n"
          ]
        }
      ]
    },
    {
      "cell_type": "code",
      "source": [
        "# Adding Key-Value Pairs\n",
        "user[\"country\"]=\"IL\"\n",
        "print(user)"
      ],
      "metadata": {
        "colab": {
          "base_uri": "https://localhost:8080/"
        },
        "id": "Mn_uqg-NHbhf",
        "outputId": "91ad3f59-2203-47cc-853e-57975f13cea6"
      },
      "execution_count": 18,
      "outputs": [
        {
          "output_type": "stream",
          "name": "stdout",
          "text": [
            "{'name': {'firstName': 'Saw', 'lastName': 'Lauz'}, 'email': 'gmail@gmail.com', 'country': 'IL'}\n"
          ]
        }
      ]
    },
    {
      "cell_type": "code",
      "source": [
        "# Removing Key-Value Pairs\n",
        "print(user)\n",
        "user.pop(\"country\")\n",
        "print(user)"
      ],
      "metadata": {
        "colab": {
          "base_uri": "https://localhost:8080/"
        },
        "id": "_COGez0bHw-B",
        "outputId": "7df6ac0d-19e8-427f-f0d6-0b01134edd9b"
      },
      "execution_count": 20,
      "outputs": [
        {
          "output_type": "stream",
          "name": "stdout",
          "text": [
            "{'name': {'firstName': 'Saw', 'lastName': 'Lauz'}, 'email': 'gmail@gmail.com', 'country': 'IL'}\n",
            "{'name': {'firstName': 'Saw', 'lastName': 'Lauz'}, 'email': 'gmail@gmail.com'}\n"
          ]
        }
      ]
    },
    {
      "cell_type": "code",
      "source": [
        "# Checking for Key Existence\n",
        "for key in user:\n",
        "  print(key)\n",
        "print(\"-----------------------------\")\n",
        "for value in user.values():\n",
        "    print(value)\n",
        "print(\"-----------------------------\")\n",
        "for key in user:\n",
        "  print(key,user[key])"
      ],
      "metadata": {
        "colab": {
          "base_uri": "https://localhost:8080/"
        },
        "id": "XY2zHiySIKCU",
        "outputId": "138ef8ef-0c04-4539-f6da-c9e27f48f2fb"
      },
      "execution_count": 24,
      "outputs": [
        {
          "output_type": "stream",
          "name": "stdout",
          "text": [
            "name\n",
            "email\n",
            "-----------------------------\n",
            "{'firstName': 'Saw', 'lastName': 'Lauz'}\n",
            "gmail@gmail.com\n",
            "-----------------------------\n",
            "name {'firstName': 'Saw', 'lastName': 'Lauz'}\n",
            "email gmail@gmail.com\n"
          ]
        }
      ]
    },
    {
      "cell_type": "code",
      "source": [
        "# Finding the Number of Key-Value Pairs\n",
        "print(len(user))"
      ],
      "metadata": {
        "colab": {
          "base_uri": "https://localhost:8080/"
        },
        "id": "i5sot2riIqJr",
        "outputId": "52888fd3-069c-4080-d761-65479a60db5f"
      },
      "execution_count": 25,
      "outputs": [
        {
          "output_type": "stream",
          "name": "stdout",
          "text": [
            "2\n"
          ]
        }
      ]
    },
    {
      "cell_type": "code",
      "source": [
        "# Nested Dictionaries\n",
        "print(user)"
      ],
      "metadata": {
        "colab": {
          "base_uri": "https://localhost:8080/"
        },
        "id": "iQwfEkhLI3M1",
        "outputId": "90889aac-a5a6-4170-b215-e8c3f67735fe"
      },
      "execution_count": 26,
      "outputs": [
        {
          "output_type": "stream",
          "name": "stdout",
          "text": [
            "{'name': {'firstName': 'Saw', 'lastName': 'Lauz'}, 'email': 'gmail@gmail.com'}\n"
          ]
        }
      ]
    }
  ]
}