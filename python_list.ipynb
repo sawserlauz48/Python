{
  "nbformat": 4,
  "nbformat_minor": 0,
  "metadata": {
    "colab": {
      "provenance": [],
      "toc_visible": true
    },
    "kernelspec": {
      "name": "python3",
      "display_name": "Python 3"
    },
    "language_info": {
      "name": "python"
    }
  },
  "cells": [
    {
      "cell_type": "markdown",
      "source": [
        "In Python, a list is a built-in data structure that represents an ordered and mutable collection of elements. Lists are used to store a collection of items, such as numbers, strings, or other objects, in a single variable. Lists are defined by enclosing a comma-separated sequence of values or objects within square brackets [   ]."
      ],
      "metadata": {
        "id": "SqF2yEIsg7M1"
      }
    },
    {
      "cell_type": "code",
      "source": [
        "# Creating a list\n",
        "colors=[\"red\",\"blue\",\"green\"]"
      ],
      "metadata": {
        "id": "zN_0_8F3h9Rv"
      },
      "execution_count": null,
      "outputs": []
    },
    {
      "cell_type": "code",
      "source": [
        "# Accessing individual elements\n",
        "colors=[\"red\",\"blue\",\"green\"]\n",
        "print(colors[1])"
      ],
      "metadata": {
        "colab": {
          "base_uri": "https://localhost:8080/"
        },
        "id": "_OmH6K89iZYl",
        "outputId": "3c72490a-15f7-466c-c3a4-d32c5cbd25e8"
      },
      "execution_count": 3,
      "outputs": [
        {
          "output_type": "stream",
          "name": "stdout",
          "text": [
            "blue\n"
          ]
        }
      ]
    },
    {
      "cell_type": "code",
      "source": [
        "# Slicing\n",
        "colors=[\"red\",\"blue\",\"green\"]\n",
        "print(colors[0:2])\n"
      ],
      "metadata": {
        "colab": {
          "base_uri": "https://localhost:8080/"
        },
        "id": "ONnk5C3hiwFU",
        "outputId": "73fa40ab-2d9c-46d8-af39-51712378f7f9"
      },
      "execution_count": 5,
      "outputs": [
        {
          "output_type": "stream",
          "name": "stdout",
          "text": [
            "['red', 'blue']\n"
          ]
        }
      ]
    },
    {
      "cell_type": "code",
      "source": [
        "# Modifying Elements\n",
        "colors=[\"red\",\"blue\",\"green\"]\n",
        "colors[2]=\"yellow\"\n",
        "print(colors)"
      ],
      "metadata": {
        "colab": {
          "base_uri": "https://localhost:8080/"
        },
        "id": "ywp1BopRjIY9",
        "outputId": "c6c9f4ac-d9cb-4ec6-d07a-4af10d6d402d"
      },
      "execution_count": 6,
      "outputs": [
        {
          "output_type": "stream",
          "name": "stdout",
          "text": [
            "['red', 'blue', 'yellow']\n"
          ]
        }
      ]
    },
    {
      "cell_type": "code",
      "source": [
        "# Adding Elements\n",
        "colors=[\"red\",\"blue\",\"green\"]\n",
        "colors.append(\"yellow\")\n",
        "print(colors)"
      ],
      "metadata": {
        "colab": {
          "base_uri": "https://localhost:8080/"
        },
        "id": "fzLeVbN1jgIw",
        "outputId": "a0924129-11e8-4e05-d71d-feec3dd70811"
      },
      "execution_count": 7,
      "outputs": [
        {
          "output_type": "stream",
          "name": "stdout",
          "text": [
            "['red', 'blue', 'green', 'yellow']\n"
          ]
        }
      ]
    },
    {
      "cell_type": "code",
      "source": [
        "# Removing Elements\n",
        "colors=[\"red\",\"blue\",\"green\"]\n",
        "colors.remove(\"blue\")\n",
        "print(colors)"
      ],
      "metadata": {
        "colab": {
          "base_uri": "https://localhost:8080/"
        },
        "id": "sgBWvxDLjrsD",
        "outputId": "c5c3262c-10bc-4733-8f45-4512c6409857"
      },
      "execution_count": 9,
      "outputs": [
        {
          "output_type": "stream",
          "name": "stdout",
          "text": [
            "['red', 'green']\n"
          ]
        }
      ]
    },
    {
      "cell_type": "code",
      "source": [
        "# Checking Membership\n",
        "colors=[\"red\",\"blue\",\"green\"]\n",
        "if \"red\" in colors:\n",
        "  print(f\"red is in the list\")"
      ],
      "metadata": {
        "colab": {
          "base_uri": "https://localhost:8080/"
        },
        "id": "ig-_VIkXkVNa",
        "outputId": "f3ca84fd-38c6-423e-fab0-a7b121334f7e"
      },
      "execution_count": 10,
      "outputs": [
        {
          "output_type": "stream",
          "name": "stdout",
          "text": [
            "red is in the list\n"
          ]
        }
      ]
    },
    {
      "cell_type": "code",
      "source": [
        "# Concatenation\n",
        "colors=[\"red\",\"blue\",\"green\"]\n",
        "colors = colors+[\"yellow\",\"orange\"]\n",
        "print(colors)"
      ],
      "metadata": {
        "colab": {
          "base_uri": "https://localhost:8080/"
        },
        "id": "PXycUeex2wNK",
        "outputId": "b1e6464c-613a-4d74-a808-28e69fd436cb"
      },
      "execution_count": 11,
      "outputs": [
        {
          "output_type": "stream",
          "name": "stdout",
          "text": [
            "['red', 'blue', 'green', 'yellow', 'orange']\n"
          ]
        }
      ]
    },
    {
      "cell_type": "code",
      "source": [
        "# Sorting\n",
        "colors=[\"red\",\"blue\",\"green\"]\n",
        "print(sorted(colors))"
      ],
      "metadata": {
        "colab": {
          "base_uri": "https://localhost:8080/"
        },
        "id": "DtsuIXK_3Gdx",
        "outputId": "85c64f2f-4874-4c42-852a-32c1bafb3d91"
      },
      "execution_count": 23,
      "outputs": [
        {
          "output_type": "stream",
          "name": "stdout",
          "text": [
            "['blue', 'green', 'red']\n"
          ]
        }
      ]
    },
    {
      "cell_type": "code",
      "source": [
        "# Finding the Length\n",
        "colors=[\"red\",\"blue\",\"green\"]\n",
        "length= len(colors)\n",
        "print(length)"
      ],
      "metadata": {
        "colab": {
          "base_uri": "https://localhost:8080/"
        },
        "id": "di5vND2S4Rgc",
        "outputId": "e6629478-50a8-48e0-cacb-e2f34087b062"
      },
      "execution_count": 25,
      "outputs": [
        {
          "output_type": "stream",
          "name": "stdout",
          "text": [
            "3\n"
          ]
        }
      ]
    },
    {
      "cell_type": "code",
      "source": [
        "# Nested Lists\n",
        "nested_colors=[[\"red\",\"blue\",\"green\"],[\"cyan\", \"magenta\" ,\"yellow\"]]"
      ],
      "metadata": {
        "id": "LhEg4LYv4igR"
      },
      "execution_count": null,
      "outputs": []
    },
    {
      "cell_type": "code",
      "source": [
        "# Copying Lists\n",
        "colors=[\"red\",\"blue\",\"green\"]\n",
        "copy_colors=colors.copy()\n",
        "print(colors,copy_colors)\n"
      ],
      "metadata": {
        "colab": {
          "base_uri": "https://localhost:8080/"
        },
        "id": "qDZQi4DB5AaK",
        "outputId": "04b9bd77-9f3d-4878-b587-5429185768c5"
      },
      "execution_count": 26,
      "outputs": [
        {
          "output_type": "stream",
          "name": "stdout",
          "text": [
            "['red', 'blue', 'green'] ['red', 'blue', 'green']\n"
          ]
        }
      ]
    }
  ]
}