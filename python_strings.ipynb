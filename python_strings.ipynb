{
  "nbformat": 4,
  "nbformat_minor": 0,
  "metadata": {
    "colab": {
      "provenance": []
    },
    "kernelspec": {
      "name": "python3",
      "display_name": "Python 3"
    },
    "language_info": {
      "name": "python"
    }
  },
  "cells": [
    {
      "cell_type": "markdown",
      "source": [
        "In Python, a string is a built-in data type that represents a sequence of characters. A string can contain letters, numbers, symbols, and spaces. Strings are commonly used for working with textual data, such as words, sentences, and paragraphs.\n",
        "\n",
        "Strings in Python are created by enclosing a sequence of characters within either single quotes (') or double quotes (\")."
      ],
      "metadata": {
        "id": "c1YBVjxJ922n"
      }
    },
    {
      "cell_type": "code",
      "execution_count": 2,
      "metadata": {
        "colab": {
          "base_uri": "https://localhost:8080/"
        },
        "id": "3SscEPKY9gVm",
        "outputId": "aea380df-a28d-470b-b2bc-93b9d4551e90"
      },
      "outputs": [
        {
          "output_type": "stream",
          "name": "stdout",
          "text": [
            "c\n"
          ]
        }
      ],
      "source": [
        "# Accessing Characters\n",
        "my_string=\"colors are so wonderful\"\n",
        "print(my_string[0])"
      ]
    },
    {
      "cell_type": "code",
      "source": [
        "# Slicing\n",
        "my_string=\"colors are so wonderful\"\n",
        "print(my_string[5:12])\n"
      ],
      "metadata": {
        "colab": {
          "base_uri": "https://localhost:8080/"
        },
        "id": "oGlJjxnE96xw",
        "outputId": "e951f49a-de98-46e6-8042-807c1e47ab09"
      },
      "execution_count": 3,
      "outputs": [
        {
          "output_type": "stream",
          "name": "stdout",
          "text": [
            "s are s\n"
          ]
        }
      ]
    },
    {
      "cell_type": "code",
      "source": [
        "# Concatenation\n",
        "my_string=\"colors are so wonderful\"\n",
        "my_string2=\"shining bright and beautiful\"\n",
        "\n",
        "print(f\"{my_string} , {my_string2} ...\")\n"
      ],
      "metadata": {
        "colab": {
          "base_uri": "https://localhost:8080/"
        },
        "id": "d3Hlr4C2960F",
        "outputId": "965cef58-e232-4582-9998-2259d041e564"
      },
      "execution_count": 6,
      "outputs": [
        {
          "output_type": "stream",
          "name": "stdout",
          "text": [
            "colors are so wonderful , shining bright and beautiful ...\n"
          ]
        }
      ]
    },
    {
      "cell_type": "code",
      "source": [
        "# String Length\n",
        "my_string=\"colors are so wonderful\"\n",
        "print(len(my_string))"
      ],
      "metadata": {
        "colab": {
          "base_uri": "https://localhost:8080/"
        },
        "id": "4uwBlkXV962u",
        "outputId": "875473c9-087c-4032-cd1f-70fda5aa9dd3"
      },
      "execution_count": 7,
      "outputs": [
        {
          "output_type": "stream",
          "name": "stdout",
          "text": [
            "23\n"
          ]
        }
      ]
    },
    {
      "cell_type": "code",
      "source": [
        "# String Methods\n",
        "my_string=\"colors are so wonderful\"\n",
        "\n",
        "# Searching for substrings\n",
        "print(my_string.find(\"s\"))\n",
        "\n",
        "# Replacing text\n",
        "print(my_string.replace(\"wonderful\",\"bright\"))\n",
        "\n",
        "# Splitting into a list of substrings\n",
        "print(my_string.split(\" \"))\n",
        "\n",
        "# Formatting strings\n",
        "name = \"primary colors\"\n",
        "colors = \"red green and blue\"\n",
        "print(f\"The {name} are: {colors}\")"
      ],
      "metadata": {
        "colab": {
          "base_uri": "https://localhost:8080/"
        },
        "id": "dn4eTERE965B",
        "outputId": "07d4b458-f9ff-43ce-8f4b-0fa7dbe97b28"
      },
      "execution_count": 12,
      "outputs": [
        {
          "output_type": "stream",
          "name": "stdout",
          "text": [
            "5\n",
            "colors are so bright\n",
            "['colors', 'are', 'so', 'wonderful']\n",
            "The primary colors are: red green and blue\n"
          ]
        }
      ]
    },
    {
      "cell_type": "code",
      "source": [
        "# String Manipulation\n",
        "my_string=\"colors are so wonderful\"\n",
        "print(my_string.upper())"
      ],
      "metadata": {
        "colab": {
          "base_uri": "https://localhost:8080/"
        },
        "id": "idEQbKvV967F",
        "outputId": "040fd64b-2c9a-4321-f1aa-ced3c5ecf744"
      },
      "execution_count": 13,
      "outputs": [
        {
          "output_type": "stream",
          "name": "stdout",
          "text": [
            "COLORS ARE SO WONDERFUL\n"
          ]
        }
      ]
    },
    {
      "cell_type": "code",
      "source": [
        "# String Escaping\n",
        "my_string=\"colors are so \\\"wonderful\\\"\"\n",
        "print(my_string)"
      ],
      "metadata": {
        "colab": {
          "base_uri": "https://localhost:8080/"
        },
        "id": "Pzz1-B1y968u",
        "outputId": "31993bf6-72e3-42b5-d28c-93f679f24adf"
      },
      "execution_count": 14,
      "outputs": [
        {
          "output_type": "stream",
          "name": "stdout",
          "text": [
            "colors are so \"wonderful\"\n"
          ]
        }
      ]
    },
    {
      "cell_type": "code",
      "source": [
        "# Checking for Substrings\n",
        "my_string=\"colors are so wonderful\"\n",
        "if \"so\" in my_string:\n",
        "  print(True)\n",
        "else:\n",
        "  print(False)"
      ],
      "metadata": {
        "colab": {
          "base_uri": "https://localhost:8080/"
        },
        "id": "v89f1Iy399Gp",
        "outputId": "8d9155e6-2641-4371-bf30-827f9dda062e"
      },
      "execution_count": 17,
      "outputs": [
        {
          "output_type": "stream",
          "name": "stdout",
          "text": [
            "True\n"
          ]
        }
      ]
    }
  ]
}