{
  "nbformat": 4,
  "nbformat_minor": 0,
  "metadata": {
    "colab": {
      "provenance": [],
      "toc_visible": true
    },
    "kernelspec": {
      "name": "python3",
      "display_name": "Python 3"
    },
    "language_info": {
      "name": "python"
    }
  },
  "cells": [
    {
      "cell_type": "markdown",
      "source": [
        "assignment expressions :=\n",
        "\n",
        "\n",
        "\n",
        "> =: Assigns a value to a variable\n",
        "\n"
      ],
      "metadata": {
        "id": "Ru2sJqw_75FD"
      }
    },
    {
      "cell_type": "code",
      "execution_count": 2,
      "metadata": {
        "colab": {
          "base_uri": "https://localhost:8080/"
        },
        "id": "f8TBpK9K7eI8",
        "outputId": "0c2e86b7-a972-46f7-8132-06661c641746"
      },
      "outputs": [
        {
          "output_type": "stream",
          "name": "stdout",
          "text": [
            "True\n"
          ]
        }
      ],
      "source": [
        "# happy = True\n",
        "# print(happy)\n",
        "\n",
        "# to assign a var and print in the same line we can use the walrus expression\n",
        "# print(happy = true)      this will return error\n",
        "\n",
        "print(happy := True)\n"
      ]
    },
    {
      "cell_type": "code",
      "source": [
        "##### this code will ask for an input and put to a list all the inputs #####\n",
        "# foods = list()\n",
        "# while True:\n",
        "#   food = input(\"What food do you like?: \")\n",
        "#   if(food == \"quit\"):\n",
        "#     break\n",
        "#   foods.append(food)\n",
        "\n",
        "##### we can write the same code in less lines using the walrus operator\n",
        "foods=list()\n",
        "while (food:=input(\"what food do you like?: \") != \"quit\"):\n",
        "  foods.append(food)\n",
        "\n",
        "\n"
      ],
      "metadata": {
        "colab": {
          "base_uri": "https://localhost:8080/"
        },
        "id": "S0Y0o2xO-jsL",
        "outputId": "7cbc0d9e-4772-40d6-89e1-fce97ca2f2bf"
      },
      "execution_count": 3,
      "outputs": [
        {
          "name": "stdout",
          "output_type": "stream",
          "text": [
            "what food do you like?: a\n",
            "what food do you like?: b\n",
            "what food do you like?: quit\n"
          ]
        }
      ]
    },
    {
      "cell_type": "markdown",
      "source": [
        "and,or,not <,>,>=,<= operators\n",
        "\n",
        "\n",
        "1. '>': Greater than\n",
        "2. '<': Less than\n",
        "3. '>=': Greater than or equal to\n",
        "4. '<=': Less than or equal to\n",
        "\n",
        "\n",
        "\n",
        "\n",
        "\n",
        "\n",
        "\n",
        "\n"
      ],
      "metadata": {
        "id": "AihFJI00AU2W"
      }
    },
    {
      "cell_type": "code",
      "source": [
        "\n",
        "\n",
        "temp= 22\n",
        "\n",
        "if (temp > 23):\n",
        "  print(\"the weather is hot\")\n",
        "elif(temp < 23):\n",
        "  print(\"the water is cold\")\n",
        "else:\n",
        "  print(\"the weather is nice\")\n"
      ],
      "metadata": {
        "colab": {
          "base_uri": "https://localhost:8080/"
        },
        "id": "bQAASwSHBK3E",
        "outputId": "8a7e4628-74c0-49ba-e9fe-d9e6e837fb24"
      },
      "execution_count": 9,
      "outputs": [
        {
          "output_type": "stream",
          "name": "stdout",
          "text": [
            "the water is cold\n"
          ]
        }
      ]
    },
    {
      "cell_type": "code",
      "source": [
        "temp= 0\n",
        "\n",
        "if (temp >= 23):\n",
        "  print(\"the weather is hot\")\n",
        "elif(temp <= 20):\n",
        "  print(\"the water is cold\")\n",
        "else:\n",
        "  print(\"the weather is nice\")\n"
      ],
      "metadata": {
        "colab": {
          "base_uri": "https://localhost:8080/"
        },
        "id": "xzDcfE43Et0S",
        "outputId": "388eb729-f84e-4867-8dfa-6e82d991217e"
      },
      "execution_count": 13,
      "outputs": [
        {
          "output_type": "stream",
          "name": "stdout",
          "text": [
            "the water is cold\n"
          ]
        }
      ]
    },
    {
      "cell_type": "code",
      "source": [
        "temp= 23\n",
        "\n",
        "if (temp == 23 or temp > 23):\n",
        "  print(\"the weather is hot\")\n",
        "elif(temp == 20 or temp < 20):\n",
        "  print(\"the weather is cold\")\n",
        "else:\n",
        "  print(\"the weather is nice\")\n",
        "\n"
      ],
      "metadata": {
        "colab": {
          "base_uri": "https://localhost:8080/"
        },
        "id": "cGM8S3j4E_mM",
        "outputId": "12346fed-c8f8-4ead-ca4f-2378c97a56f0"
      },
      "execution_count": 25,
      "outputs": [
        {
          "output_type": "stream",
          "name": "stdout",
          "text": [
            "the weather is hot\n"
          ]
        }
      ]
    },
    {
      "cell_type": "code",
      "source": [
        "temp= 19\n",
        "\n",
        "if (temp >= 20 and temp <= 23):\n",
        "  print(\"the weather is nice\")\n",
        "else:\n",
        "  print(\"the weather is bad\")"
      ],
      "metadata": {
        "colab": {
          "base_uri": "https://localhost:8080/"
        },
        "id": "CciCl7FeGCOo",
        "outputId": "9a340687-5484-4016-db4d-2592a8a0f672"
      },
      "execution_count": 32,
      "outputs": [
        {
          "output_type": "stream",
          "name": "stdout",
          "text": [
            "the weather is bad\n"
          ]
        }
      ]
    },
    {
      "cell_type": "code",
      "source": [
        "raining= False\n",
        "\n",
        "if raining:\n",
        "  print(\"it is raining outside\")\n",
        "else:\n",
        "  print(\"it is sunny outside\")\n",
        "\n",
        "## this will flip the condition\n",
        "if not raining:\n",
        "  print(\"it is sunny outside\")\n",
        "else:\n",
        "  print(\"it is raining outside\")\n",
        "\n",
        "## we will need to get the same outpot"
      ],
      "metadata": {
        "id": "1tbKr0YRGtdX"
      },
      "execution_count": null,
      "outputs": []
    },
    {
      "cell_type": "markdown",
      "source": [
        "!=,== operators\n",
        "1. '==': Equal to\n",
        "2. '!=': Not equal to\n",
        "\n",
        "\n"
      ],
      "metadata": {
        "id": "uVVZM1l3OOmX"
      }
    },
    {
      "cell_type": "code",
      "source": [
        "colors=[\"red\",\"blue\",\"green\"]\n",
        "\n",
        "if(colors[0] == \"red\"):\n",
        "  print(f\"The first color is : {colors[0]}\")\n",
        "elif(colors[0] != \"red\"):\n",
        "  print (f\"The first color need to be red\")\n"
      ],
      "metadata": {
        "colab": {
          "base_uri": "https://localhost:8080/"
        },
        "id": "SRsNiSsaORSq",
        "outputId": "96add767-05d8-4ff0-fec3-4fa72e768cf0"
      },
      "execution_count": 44,
      "outputs": [
        {
          "output_type": "stream",
          "name": "stdout",
          "text": [
            "The first color is : red\n"
          ]
        }
      ]
    },
    {
      "cell_type": "markdown",
      "source": [
        "in, not in, is, is not\n",
        "\n",
        "\n",
        "1.   \"in\" will check if it is in the arrgument\n",
        "2.   \"not in\" will check if it is not in the arrgument\n",
        "3.   \"is\" will check if it is the arrgument\n",
        "4.   \"is not\" will check if is not the arrgument\n",
        "\n",
        "\n",
        "\n",
        "\n",
        "\n"
      ],
      "metadata": {
        "id": "O3vLvea_Pk-e"
      }
    },
    {
      "cell_type": "code",
      "source": [
        "a=\"This is a string\"\n",
        "b=\"This is a string\"\n",
        "\n",
        "print(a==b) #this will return true becuse it has the same value\n",
        "\n",
        "print(a is b,\"----> is a is b?\") # this will return false becuse it dont point to the same location in the memory\n",
        "print(a is not b,\"----> is a is not b?\") # this will return True becuse we flip the result\n",
        "\n",
        "print(a in \"string\",\"----> is a in the string\") #this will check if \"a\" is inside the string \"string\" and will return False\n",
        "print(a not in \"string\",\"----> is a not in the string\") #this will check if \"a\" is inside the string \"string\" and will return True becuse we flip the result\n"
      ],
      "metadata": {
        "colab": {
          "base_uri": "https://localhost:8080/"
        },
        "id": "FFvQ_qtPPy5R",
        "outputId": "31483d81-1523-45cf-bcb6-6b506033f5ba"
      },
      "execution_count": 54,
      "outputs": [
        {
          "output_type": "stream",
          "name": "stdout",
          "text": [
            "True\n",
            "False ----> is a is b?\n",
            "True ----> is a is not b?\n",
            "False ----> is a in the string\n",
            "True ----> is a not in the string\n"
          ]
        }
      ]
    },
    {
      "cell_type": "markdown",
      "source": [
        "AND, OR, XOR"
      ],
      "metadata": {
        "id": "zleZASZESygG"
      }
    },
    {
      "cell_type": "code",
      "source": [
        "#AND\n",
        "\n",
        "n1=123\n",
        "n2=456\n",
        "\n",
        "print(bin(n1)[2:])\n",
        "print(bin(n2)[2:])\n",
        "\n",
        "#AND  1AND1=1  else=0\n",
        "n3= n1 & n2\n",
        "print(bin(n3)[2:])"
      ],
      "metadata": {
        "colab": {
          "base_uri": "https://localhost:8080/"
        },
        "id": "uoiLd7OoWkOe",
        "outputId": "b6c2d90f-bd71-4f90-889c-abe2413dbf7f"
      },
      "execution_count": 55,
      "outputs": [
        {
          "output_type": "stream",
          "name": "stdout",
          "text": [
            "1111011\n",
            "111001000\n",
            "1001000\n"
          ]
        }
      ]
    },
    {
      "cell_type": "code",
      "source": [
        "#OR\n",
        "n1=123\n",
        "n2=456\n",
        "\n",
        "print(bin(n1)[2:])\n",
        "print(bin(n2)[2:])\n",
        "\n",
        "#OR  0OR0=0  else=1\n",
        "n3= n1 | n2\n",
        "print(bin(n3)[2:])\n"
      ],
      "metadata": {
        "colab": {
          "base_uri": "https://localhost:8080/"
        },
        "id": "tWZQ7bENXEkO",
        "outputId": "3bc9a201-4f33-4117-aa1b-e2771fe20fec"
      },
      "execution_count": 56,
      "outputs": [
        {
          "output_type": "stream",
          "name": "stdout",
          "text": [
            "1111011\n",
            "111001000\n",
            "111111011\n"
          ]
        }
      ]
    },
    {
      "cell_type": "code",
      "source": [
        "#XOR\n",
        "n1=123\n",
        "n2=456\n",
        "\n",
        "print(bin(n1)[2:])\n",
        "print(bin(n2)[2:])\n",
        "\n",
        "#XOR  1XOR0=1 0XOR1=1  else=0\n",
        "n3= n1 ^ n2\n",
        "print(bin(n3)[2:])"
      ],
      "metadata": {
        "colab": {
          "base_uri": "https://localhost:8080/"
        },
        "id": "y_5_eBUKXZ7g",
        "outputId": "12a25138-6399-4f9c-ab76-0c2e15949e4c"
      },
      "execution_count": 57,
      "outputs": [
        {
          "output_type": "stream",
          "name": "stdout",
          "text": [
            "1111011\n",
            "111001000\n",
            "110110011\n"
          ]
        }
      ]
    },
    {
      "cell_type": "markdown",
      "source": [
        "Addition and subtraction"
      ],
      "metadata": {
        "id": "xAOyibKFX--Y"
      }
    },
    {
      "cell_type": "code",
      "source": [
        "n1=1\n",
        "n2=2\n",
        "\n",
        "print(n1+n2) #Addition\n",
        "print(n2-n1) #subtraction\n"
      ],
      "metadata": {
        "colab": {
          "base_uri": "https://localhost:8080/"
        },
        "id": "t8LvBF7vYCF-",
        "outputId": "e9764625-0476-4e19-e6e3-3e78d094398c"
      },
      "execution_count": 58,
      "outputs": [
        {
          "output_type": "stream",
          "name": "stdout",
          "text": [
            "3\n",
            "1\n"
          ]
        }
      ]
    }
  ]
}